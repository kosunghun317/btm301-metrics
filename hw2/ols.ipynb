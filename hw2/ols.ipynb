{
 "cells": [
  {
   "cell_type": "code",
   "execution_count": 20,
   "metadata": {},
   "outputs": [
    {
     "name": "stdout",
     "output_type": "stream",
     "text": [
      "/Users/kosunghun/codes/learn/btm301-metrics/hw2\n"
     ]
    }
   ],
   "source": [
    "import os\n",
    "import numpy as np\n",
    "\n",
    "print(os.getcwd())"
   ]
  },
  {
   "cell_type": "code",
   "execution_count": 21,
   "metadata": {},
   "outputs": [],
   "source": [
    "def ols(y, X):\n",
    "    N, K = X.shape\n",
    "    beta = np.linalg.inv(X.T @ X) @ X.T @ y\n",
    "\n",
    "    return (N, K, beta)"
   ]
  },
  {
   "cell_type": "code",
   "execution_count": 22,
   "metadata": {},
   "outputs": [],
   "source": [
    "# please modify this line after checking the current directory\n",
    "data = np.loadtxt(\"./nerlove.asc\")"
   ]
  },
  {
   "cell_type": "code",
   "execution_count": 23,
   "metadata": {},
   "outputs": [],
   "source": [
    "y = np.log(data[:, 0])  # 145 x 1 matrix; log(TC)\n",
    "X = np.hstack(\n",
    "    (np.ones((data.shape[0], 1)), np.log(data[:, [1, 2, 3, 4]]))\n",
    ")  # 145 x 5 matrix; 1, log(Q), log(PL), log(PF), log(PK)"
   ]
  },
  {
   "cell_type": "code",
   "execution_count": 24,
   "metadata": {},
   "outputs": [],
   "source": [
    "N, K, beta = ols(y, X)"
   ]
  },
  {
   "cell_type": "code",
   "execution_count": 25,
   "metadata": {},
   "outputs": [
    {
     "data": {
      "text/plain": [
       "array([-3.52650284,  0.72039408,  0.4363412 ,  0.42651695, -0.21988835])"
      ]
     },
     "execution_count": 25,
     "metadata": {},
     "output_type": "execute_result"
    }
   ],
   "source": [
    "beta"
   ]
  },
  {
   "cell_type": "code",
   "execution_count": 26,
   "metadata": {},
   "outputs": [],
   "source": [
    "residual = y - X @ beta"
   ]
  },
  {
   "cell_type": "code",
   "execution_count": 27,
   "metadata": {},
   "outputs": [],
   "source": [
    "degree_of_freedom = N - K\n",
    "sigma_squared = (residual.T @ residual) / (N - K)\n",
    "sigma = np.sqrt(sigma_squared)\n",
    "variance_matrix = sigma_squared * np.linalg.inv(X.T @ X)\n",
    "std_errors = np.sqrt(np.diag(variance_matrix))"
   ]
  },
  {
   "cell_type": "code",
   "execution_count": 28,
   "metadata": {},
   "outputs": [
    {
     "name": "stdout",
     "output_type": "stream",
     "text": [
      "0.1539429154584698\n",
      "[1.77436672 0.01746643 0.29104761 0.10036915 0.33942862]\n"
     ]
    }
   ],
   "source": [
    "print(sigma_squared)\n",
    "print(std_errors)"
   ]
  }
 ],
 "metadata": {
  "kernelspec": {
   "display_name": ".venv",
   "language": "python",
   "name": "python3"
  },
  "language_info": {
   "codemirror_mode": {
    "name": "ipython",
    "version": 3
   },
   "file_extension": ".py",
   "mimetype": "text/x-python",
   "name": "python",
   "nbconvert_exporter": "python",
   "pygments_lexer": "ipython3",
   "version": "3.12.4"
  }
 },
 "nbformat": 4,
 "nbformat_minor": 2
}
